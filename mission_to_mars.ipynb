{
 "cells": [
  {
   "cell_type": "code",
   "execution_count": 1,
   "metadata": {},
   "outputs": [],
   "source": [
    "from splinter import Browser\n",
    "from bs4 import BeautifulSoup as bs\n",
    "import pandas as pd"
   ]
  },
  {
   "cell_type": "code",
   "execution_count": 5,
   "metadata": {},
   "outputs": [
    {
     "name": "stdout",
     "output_type": "stream",
     "text": [
      "/usr/local/bin/chromedriver\r\n"
     ]
    }
   ],
   "source": [
    "!which chromedriver"
   ]
  },
  {
   "cell_type": "code",
   "execution_count": 6,
   "metadata": {},
   "outputs": [],
   "source": [
    "#setup browser and executable path for scraping\n",
    "executable_path={\"executable_path\": \"/usr/local/bin/chromedriver\"}\n",
    "browser=Browser(\"chrome\", **executable_path, headless=False)"
   ]
  },
  {
   "cell_type": "code",
   "execution_count": 113,
   "metadata": {},
   "outputs": [
    {
     "data": {
      "text/plain": [
       "\"No matter how cold your winter has been, it's probably not as chilly as Mars. Check for yourself: Starting today, the public can get a daily weather report from NASA's InSight lander.\""
      ]
     },
     "execution_count": 113,
     "metadata": {},
     "output_type": "execute_result"
    }
   ],
   "source": [
    "#visit site to scrape last news article about mars\n",
    "url=\"https://mars.nasa.gov/news/\"\n",
    "browser.visit(url)\n",
    "html=browser.html\n",
    "soup=bs(html, \"html.parser\")\n",
    "title=soup.find(\"div\", class_=\"content_title\").text\n",
    "browser.click_link_by_text(title)\n",
    "html=browser.html\n",
    "soup=bs(html, \"html.parser\")\n",
    "paragraph=soup.find(\"div\", class_=\"wysiwyg_content\")\n",
    "para=paragraph.find('p').text\n",
    "\n"
   ]
  },
  {
   "cell_type": "code",
   "execution_count": 88,
   "metadata": {},
   "outputs": [
    {
     "data": {
      "text/plain": [
       "'https://www.jpl.nasa.gov/spaceimages/images/largesize/PIA23040_hires.jpg'"
      ]
     },
     "execution_count": 88,
     "metadata": {},
     "output_type": "execute_result"
    }
   ],
   "source": [
    "#browse to mars site and scrape last picture\n",
    "url_image=\"https://www.jpl.nasa.gov/spaceimages/?search=&category=Mars\"\n",
    "home_url='https://www.jpl.nasa.gov'\n",
    "browser.visit(url_image)\n",
    "html=browser.html\n",
    "soup=bs(html, \"html.parser\")\n",
    "\n",
    "\n",
    "mars_img=soup.find(\"li\", class_=\"slide\")\n",
    "mars_src=mars_img.find(\"a\")\n",
    "mars_src[\"data-fancybox-href\"]\n",
    "featured_image_url=home_url+mars_src[\"data-fancybox-href\"]\n",
    "\n"
   ]
  },
  {
   "cell_type": "code",
   "execution_count": 91,
   "metadata": {},
   "outputs": [
    {
     "data": {
      "text/plain": [
       "'\\nInSight sol 81 (2019-02-17), high -17/2F, low -95/-138F, pressure at 7.23hPa, winds from the WNW at 12 mph gusting to 37.8 mph\\n\\nWelcome to the Mars Weather team @NASAInSight!\\nhttps://mars.nasa.gov/insight/weather/\\xa0…pic.twitter.com/SH12FvcMfv'"
      ]
     },
     "execution_count": 91,
     "metadata": {},
     "output_type": "execute_result"
    }
   ],
   "source": [
    "#scrape last weather alerts from mars twitter account\n",
    "url_weather=\"https://twitter.com/marswxreport?lang=en\"\n",
    "browser.visit(url_weather)\n",
    "html=browser.html\n",
    "soup=bs(html, \"html.parser\")\n",
    "\n",
    "mars_w=soup.find(\"div\", class_=\"js-tweet-text-container\").text.rstrip()\n",
    "mars_w"
   ]
  },
  {
   "cell_type": "code",
   "execution_count": 23,
   "metadata": {},
   "outputs": [
    {
     "data": {
      "text/plain": [
       "'<table border=\"1\" class=\"dataframe\">  <thead>    <tr style=\"text-align: right;\">      <th></th>      <th>Values</th>    </tr>    <tr>      <th>Measurements</th>      <th></th>    </tr>  </thead>  <tbody>    <tr>      <th>Equatorial Diameter:</th>      <td>6,792 km</td>    </tr>    <tr>      <th>Polar Diameter:</th>      <td>6,752 km</td>    </tr>    <tr>      <th>Mass:</th>      <td>6.42 x 10^23 kg (10.7% Earth)</td>    </tr>    <tr>      <th>Moons:</th>      <td>2 (Phobos &amp; Deimos)</td>    </tr>    <tr>      <th>Orbit Distance:</th>      <td>227,943,824 km (1.52 AU)</td>    </tr>    <tr>      <th>Orbit Period:</th>      <td>687 days (1.9 years)</td>    </tr>    <tr>      <th>Surface Temperature:</th>      <td>-153 to 20 °C</td>    </tr>    <tr>      <th>First Record:</th>      <td>2nd millennium BC</td>    </tr>    <tr>      <th>Recorded By:</th>      <td>Egyptian astronomers</td>    </tr>  </tbody></table>'"
      ]
     },
     "execution_count": 23,
     "metadata": {},
     "output_type": "execute_result"
    }
   ],
   "source": [
    "#scrape general mars facts from site, and placed in html table\n",
    "facts_url=\"https://space-facts.com/mars/\"\n",
    "mars_table=pd.read_html(facts_url)\n",
    "df=mars_table[0]\n",
    "df.columns=[\"Measurements\",\"Values\"]\n",
    "df_facts=df.set_index('Measurements')\n",
    "mars_facts=df_facts.to_html()\n",
    "mars_facts_final=mars_facts.replace('\\n','')\n",
    "mars_facts_final\n"
   ]
  },
  {
   "cell_type": "code",
   "execution_count": 105,
   "metadata": {},
   "outputs": [],
   "source": [
    "#function to return mars hemisphere pictures\n",
    "def mars_hemi(hemisphere):\n",
    "    url_hemisphere=\"https://astrogeology.usgs.gov/search/results?q=hemisphere+enhanced&k1=target&v1=Mars\"\n",
    "    browser.visit(url_hemisphere)\n",
    "    browser.click_link_by_partial_text(hemisphere)\n",
    "    html=browser.html\n",
    "    soup=bs(html, \"html.parser\")\n",
    "    hemi=soup.find(\"div\", class_=\"downloads\")\n",
    "    hemi_img=hemi.find(\"a\")\n",
    "    return hemi_img[\"href\"]"
   ]
  },
  {
   "cell_type": "code",
   "execution_count": 108,
   "metadata": {},
   "outputs": [
    {
     "data": {
      "text/plain": [
       "'http://astropedia.astrogeology.usgs.gov/download/Mars/Viking/valles_marineris_enhanced.tif/full.jpg'"
      ]
     },
     "execution_count": 108,
     "metadata": {},
     "output_type": "execute_result"
    }
   ],
   "source": [
    "#calling functions\n",
    "\n",
    "cerberus_link=mars_hemi(\"Cerberus\")\n",
    "schiaparelli_link=mars_hemi(\"Schiaparelli\")\n",
    "syrtis_major_link=mars_hemi(\"Syrtis Major\")\n",
    "valles_marineris_link=mars_hemi(\"Valles Marineris\")\n",
    "\n",
    "\n",
    "\n",
    "\n"
   ]
  },
  {
   "cell_type": "code",
   "execution_count": 109,
   "metadata": {},
   "outputs": [
    {
     "data": {
      "text/plain": [
       "[{'title': 'Valles Marineris Hemisphere',\n",
       "  'img_url': 'http://astropedia.astrogeology.usgs.gov/download/Mars/Viking/valles_marineris_enhanced.tif/full.jpg'},\n",
       " {'title': 'Cerberus Hemisphere',\n",
       "  'img_url': 'http://astropedia.astrogeology.usgs.gov/download/Mars/Viking/cerberus_enhanced.tif/full.jpg'},\n",
       " {'title': 'Shiaparelli Hemisphere',\n",
       "  'img_url': 'http://astropedia.astrogeology.usgs.gov/download/Mars/Viking/schiaparelli_enhanced.tif/full.jpg'},\n",
       " {'title': 'Syrtis Major Hemisphere',\n",
       "  'img_url': 'http://astropedia.astrogeology.usgs.gov/download/Mars/Viking/syrtis_major_enhanced.tif/full.jpg'}]"
      ]
     },
     "execution_count": 109,
     "metadata": {},
     "output_type": "execute_result"
    }
   ],
   "source": [
    "#stored hempshere links in dictionaries\n",
    "hemisphere_image_urls=[\n",
    "    {\"title\": \"Valles Marineris Hemisphere\", \"img_url\":valles_marineris_link},\n",
    "    {\"title\": \"Cerberus Hemisphere\", \"img_url\":cerberus_link},\n",
    "    {\"title\": \"Shiaparelli Hemisphere\", \"img_url\":schiaparelli_link},\n",
    "    {\"title\": \"Syrtis Major Hemisphere\", \"img_url\": syrtis_major_link}\n",
    "]\n",
    "hemisphere_image_urls"
   ]
  }
 ],
 "metadata": {
  "kernelspec": {
   "display_name": "Python 3",
   "language": "python",
   "name": "python3"
  },
  "language_info": {
   "codemirror_mode": {
    "name": "ipython",
    "version": 3
   },
   "file_extension": ".py",
   "mimetype": "text/x-python",
   "name": "python",
   "nbconvert_exporter": "python",
   "pygments_lexer": "ipython3",
   "version": "3.7.2"
  }
 },
 "nbformat": 4,
 "nbformat_minor": 2
}
